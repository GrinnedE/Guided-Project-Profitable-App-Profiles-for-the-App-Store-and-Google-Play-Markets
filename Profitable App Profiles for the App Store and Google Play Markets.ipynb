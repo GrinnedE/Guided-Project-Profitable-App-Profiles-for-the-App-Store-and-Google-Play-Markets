{
 "cells": [
  {
   "cell_type": "markdown",
   "id": "dbe0a8ee",
   "metadata": {},
   "source": [
    "# Profitable App Profiles for the App Store and Google Play Markets\n",
    "\n",
    "We try to find a profitable free app profile that will suit both the App Store and Google Play markets. For that task, we will be using two data sets - [one](https://www.kaggle.com/ramamet4/app-store-apple-data-set-10k-apps) containing data about around 7200 App Store applications, and the [second](https://www.kaggle.com/lava18/google-play-store-apps) one containing data about around 10 000 Google Play applications. \n",
    "\n",
    "My goal in this guided project is to further my data analysis skills with some hands-on problems. "
   ]
  },
  {
   "cell_type": "markdown",
   "id": "ac7199e8",
   "metadata": {},
   "source": [
    "First, let's start by opening our data sets, loading them into lists and then printing the first few rows of each data set to make sure they've been loaded correctly. Let's also count the amount of columns and rows to make sure that we've loaded all data into our lists. "
   ]
  },
  {
   "cell_type": "code",
   "execution_count": 1,
   "id": "4538e459",
   "metadata": {},
   "outputs": [],
   "source": [
    "def explore_data(dataset, start, end, rows_and_columns=False):\n",
    "    dataset_slice = dataset[start:end]  \n",
    "    \n",
    "    for row in dataset_slice:\n",
    "        print(row, '\\n')\n",
    "\n",
    "    if rows_and_columns:\n",
    "        print('Number of rows:', len(dataset))\n",
    "        print('Number of columns:', len(dataset[0]))\n",
    "        print('\\n')"
   ]
  },
  {
   "cell_type": "code",
   "execution_count": 2,
   "id": "37dd26bb",
   "metadata": {},
   "outputs": [],
   "source": [
    "def read_data(dataset_path): \n",
    "    from csv import reader\n",
    "    open_dataset = open(dataset_path, encoding='utf8')\n",
    "    read_dataset = reader(open_dataset)\n",
    "    list_dataset = list(read_dataset) \n",
    "    \n",
    "    return list_dataset"
   ]
  },
  {
   "cell_type": "code",
   "execution_count": 3,
   "id": "75f0dcb3",
   "metadata": {
    "scrolled": true
   },
   "outputs": [
    {
     "name": "stdout",
     "output_type": "stream",
     "text": [
      "['', 'id', 'track_name', 'size_bytes', 'currency', 'price', 'rating_count_tot', 'rating_count_ver', 'user_rating', 'user_rating_ver', 'ver', 'cont_rating', 'prime_genre', 'sup_devices.num', 'ipadSc_urls.num', 'lang.num', 'vpp_lic'] \n",
      "\n",
      "['1', '281656475', 'PAC-MAN Premium', '100788224', 'USD', '3.99', '21292', '26', '4', '4.5', '6.3.5', '4+', 'Games', '38', '5', '10', '1'] \n",
      "\n",
      "['2', '281796108', 'Evernote - stay organized', '158578688', 'USD', '0', '161065', '26', '4', '3.5', '8.2.2', '4+', 'Productivity', '37', '5', '23', '1'] \n",
      "\n",
      "['3', '281940292', 'WeatherBug - Local Weather, Radar, Maps, Alerts', '100524032', 'USD', '0', '188583', '2822', '3.5', '4.5', '5.0.0', '4+', 'Weather', '37', '5', '3', '1'] \n",
      "\n",
      "['4', '282614216', 'eBay: Best App to Buy, Sell, Save! Online Shopping', '128512000', 'USD', '0', '262241', '649', '4', '4.5', '5.10.0', '12+', 'Shopping', '37', '5', '9', '1'] \n",
      "\n",
      "Number of rows: 7198\n",
      "Number of columns: 17\n",
      "\n",
      "\n",
      "['App', 'Category', 'Rating', 'Reviews', 'Size', 'Installs', 'Type', 'Price', 'Content Rating', 'Genres', 'Last Updated', 'Current Ver', 'Android Ver'] \n",
      "\n",
      "['Photo Editor & Candy Camera & Grid & ScrapBook', 'ART_AND_DESIGN', '4.1', '159', '19M', '10,000+', 'Free', '0', 'Everyone', 'Art & Design', 'January 7, 2018', '1.0.0', '4.0.3 and up'] \n",
      "\n",
      "['Coloring book moana', 'ART_AND_DESIGN', '3.9', '967', '14M', '500,000+', 'Free', '0', 'Everyone', 'Art & Design;Pretend Play', 'January 15, 2018', '2.0.0', '4.0.3 and up'] \n",
      "\n",
      "['U Launcher Lite – FREE Live Cool Themes, Hide Apps', 'ART_AND_DESIGN', '4.7', '87510', '8.7M', '5,000,000+', 'Free', '0', 'Everyone', 'Art & Design', 'August 1, 2018', '1.2.4', '4.0.3 and up'] \n",
      "\n",
      "['Sketch - Draw & Paint', 'ART_AND_DESIGN', '4.5', '215644', '25M', '50,000,000+', 'Free', '0', 'Teen', 'Art & Design', 'June 8, 2018', 'Varies with device', '4.2 and up'] \n",
      "\n",
      "Number of rows: 10842\n",
      "Number of columns: 13\n",
      "\n",
      "\n"
     ]
    }
   ],
   "source": [
    "appstore_dataset = read_data('E:\\Jupyter\\Profitable App Profiles for App Store and Google Play\\AppleStore.csv')\n",
    "googleplay_dataset = read_data('E:\\Jupyter\\Profitable App Profiles for App Store and Google Play\\googleplaystore.csv')\n",
    "\n",
    "explore_data(appstore_dataset, 0, 5, True)\n",
    "explore_data(googleplay_dataset, 0, 5, True)"
   ]
  },
  {
   "cell_type": "markdown",
   "id": "585b3498",
   "metadata": {},
   "source": [
    "As we can see above, our lists seem to be loaded correctly. Now, let's assume that our app has to be free and directed towards english-speaking audience. We need to clean our data sets by removing wrong data and paid or non-english apps and then find columns that might help us with our analysis."
   ]
  },
  {
   "cell_type": "markdown",
   "id": "1036df87",
   "metadata": {},
   "source": [
    "The Google Play data set has a dedicated discussion section, where one of the [discussions](https://www.kaggle.com/lava18/google-play-store-apps/discussion/66015) mentions an error at entry 10472(10473 with header included). Let's print that row and see if it really is incorrect. "
   ]
  },
  {
   "cell_type": "code",
   "execution_count": 4,
   "id": "d81fe6cc",
   "metadata": {},
   "outputs": [
    {
     "name": "stdout",
     "output_type": "stream",
     "text": [
      "['Life Made WI-Fi Touchscreen Photo Frame', '1.9', '19', '3.0M', '1,000+', 'Free', '0', 'Everyone', '', 'February 11, 2018', '1.0.19', '4.0 and up']\n"
     ]
    }
   ],
   "source": [
    "print(googleplay_dataset[10473])"
   ]
  },
  {
   "cell_type": "markdown",
   "id": "eef7d9d5",
   "metadata": {},
   "source": [
    "It is indeed incorrect. What we can do now is to just simply remove that row with `del` statement and print row 10473 again."
   ]
  },
  {
   "cell_type": "code",
   "execution_count": 5,
   "id": "da07cb41",
   "metadata": {},
   "outputs": [
    {
     "name": "stdout",
     "output_type": "stream",
     "text": [
      "['osmino Wi-Fi: free WiFi', 'TOOLS', '4.2', '134203', '4.1M', '10,000,000+', 'Free', '0', 'Everyone', 'Tools', 'August 7, 2018', '6.06.14', '4.4 and up']\n"
     ]
    }
   ],
   "source": [
    "del googleplay_dataset[10473]\n",
    "print(googleplay_dataset[10473])"
   ]
  },
  {
   "cell_type": "markdown",
   "id": "93a3f896",
   "metadata": {},
   "source": [
    "Now that we know there are no more errors in our data, we should check our data sets for duplicates by writing a simple function that will check apps' names and create a list of unique apps and a list of duplicates. Note that our data sets are built in a different order, so we need to add `name_index` argument to our function, which will let us work with both data sets using only one function. "
   ]
  },
  {
   "cell_type": "code",
   "execution_count": 6,
   "id": "3d4d494c",
   "metadata": {},
   "outputs": [],
   "source": [
    "def find_duplicates(dataset, name_index):\n",
    "    duplicate_apps = []\n",
    "    unique_apps = []\n",
    "    \n",
    "    for row in dataset[1:]:\n",
    "        if row[0] in unique_apps:\n",
    "            duplicate_apps.append(row[name_index])\n",
    "        else:\n",
    "            unique_apps.append(row[name_index])\n",
    "            \n",
    "    print('There are ' + str(len(duplicate_apps)) + ' duplicate apps in the data set')\n",
    "    len(duplicate_apps)\n",
    "    \n",
    "    return len(duplicate_apps)"
   ]
  },
  {
   "cell_type": "code",
   "execution_count": 7,
   "id": "6df8e1b2",
   "metadata": {},
   "outputs": [
    {
     "name": "stdout",
     "output_type": "stream",
     "text": [
      "There are 1181 duplicate apps in the data set\n",
      "There are 0 duplicate apps in the data set\n"
     ]
    }
   ],
   "source": [
    "android_duplicates = find_duplicates(googleplay_dataset, 0)\n",
    "appstore_duplicates = find_duplicates(appstore_dataset, 2)"
   ]
  },
  {
   "cell_type": "markdown",
   "id": "c85325e0",
   "metadata": {},
   "source": [
    "We can see there are quite a few duplicates in our android data set that we will need to remove. Since we can't do that randomly, we have to find a criterion which will make our data the most accurate. In this case, we can judge the relevance of our data by the amount of user reviews(the latest app data has the most reviews). "
   ]
  },
  {
   "cell_type": "code",
   "execution_count": 8,
   "id": "f9b53bd4",
   "metadata": {},
   "outputs": [],
   "source": [
    "def remove_duplicates_android(dataset):\n",
    "    reviews_max = {}\n",
    "    \n",
    "    for row in dataset[1:]:\n",
    "        if row[0] in reviews_max:\n",
    "            if row[3] > reviews_max[row[0]]:\n",
    "                reviews_max[row[0]] = row[3]\n",
    "        else:\n",
    "            reviews_max[row[0]] = row[3]\n",
    "            \n",
    "    print('Expected number of unique android apps: ', len(dataset) - 1 -android_duplicates)\n",
    "    print('Our number of unique android apps: ', len(reviews_max))\n",
    "    clean_data = []\n",
    "    clean_data.append(dataset[0])\n",
    "    added_apps = []\n",
    "    \n",
    "    for row in dataset[1:]:\n",
    "        if row[3] == reviews_max[row[0]] and row[0] not in added_apps:\n",
    "            clean_data.append(row)\n",
    "            added_apps.append(row[0])\n",
    "            \n",
    "    return clean_data"
   ]
  },
  {
   "cell_type": "markdown",
   "id": "7a6fda61",
   "metadata": {},
   "source": [
    "In the code above, we created a dictionary to hold the unique names of our apps and their highest amount of reviews. It allowed us later to create two empty lists - for cleaned data and for the names of apps that have already been put into that list. \n",
    "\n",
    "Then, we simply just looped through our data set(excluding header) and checked if the current app's number of reviews equals its highest amount possible saved in the `reviews_max` and if its name has already been added to our control list called `added_apps`, that ensures no duplicates are put into `clean_data` list. \n",
    "\n",
    "To make sure that our function works correctly, we also checked if the length of cleaned list equals the expected number of unique apps. "
   ]
  },
  {
   "cell_type": "code",
   "execution_count": 9,
   "id": "319882fe",
   "metadata": {},
   "outputs": [
    {
     "name": "stdout",
     "output_type": "stream",
     "text": [
      "Expected number of unique android apps:  9659\n",
      "Our number of unique android apps:  9659\n"
     ]
    }
   ],
   "source": [
    "googleplay_dataset = remove_duplicates_android(googleplay_dataset)"
   ]
  },
  {
   "cell_type": "markdown",
   "id": "abefc1e5",
   "metadata": {},
   "source": [
    "We can finally move on to the next problem - removing non-english apps. To do that, we should know that each character we use has its own corresponding number, which we can get by using `ord()` function. According to ASCII system, the characters commonly used in english texts are numbered 0 to 127. Since some english apps might use non-english characters, we will assume that non-english app is an app that contains more than 3 non-english characters in its name. We can clean non-english apps from our data sets by checking each row's name column for characters with assigned number outside of our 0-127 range. To do that, we will create a function that iterates through our lists and then removes every app that contains more than 3 non-english characters. "
   ]
  },
  {
   "cell_type": "code",
   "execution_count": 10,
   "id": "77f07813",
   "metadata": {},
   "outputs": [],
   "source": [
    "def remove_non_english(dataset, name_index):\n",
    "    clean_data = []\n",
    "    \n",
    "    for row in dataset:\n",
    "        non_english_chars = 0\n",
    "        for character in row[name_index]:\n",
    "            if ord(character) > 127:\n",
    "                non_english_chars += 1\n",
    "        if non_english_chars <= 3:\n",
    "            clean_data.append(row)\n",
    "            \n",
    "    return clean_data"
   ]
  },
  {
   "cell_type": "markdown",
   "id": "ffab377f",
   "metadata": {},
   "source": [
    "Let's create some simple and short test lists to check if our functions work correctly."
   ]
  },
  {
   "cell_type": "code",
   "execution_count": 11,
   "id": "6bac0d1b",
   "metadata": {
    "scrolled": true
   },
   "outputs": [
    {
     "name": "stdout",
     "output_type": "stream",
     "text": [
      "[['Instagram'], ['Docs To Go™ Free Office Suite'], ['Instachat 😜']] \n",
      " [['', '', 'Instagram'], ['', '', 'Docs To Go™ Free Office Suite'], ['', '', 'Instachat 😜']]\n"
     ]
    }
   ],
   "source": [
    "test_list_android = [['Instagram'], ['爱奇艺PPS -《欢乐颂2》电视剧热播'], ['Docs To Go™ Free Office Suite'], ['Instachat 😜']]\n",
    "test_list_appstore = [['','','Instagram'], ['','','爱奇艺PPS -《欢乐颂2》电视剧热播'], ['','','Docs To Go™ Free Office Suite'], ['','','Instachat 😜']]\n",
    "\n",
    "test_list_android = remove_non_english(test_list_android, 0)\n",
    "test_list_appstore = remove_non_english(test_list_appstore, 2)\n",
    "print(test_list_android, '\\n', test_list_appstore)"
   ]
  },
  {
   "cell_type": "markdown",
   "id": "6ceb7244",
   "metadata": {},
   "source": [
    "As we can see, our cleaning functions got rid of an app named **爱奇艺PPS -《欢乐颂2》电视剧热播**, but left **Instachat 😜** and **Docs To Go™ Free Office Suite**, both of which also contain non-english characters. Now that we've confirmed that everything works, we can remove non-english apps from our data sets. "
   ]
  },
  {
   "cell_type": "code",
   "execution_count": 12,
   "id": "33b346fa",
   "metadata": {},
   "outputs": [
    {
     "name": "stdout",
     "output_type": "stream",
     "text": [
      "Remaining number of android apps:  9615\n",
      "Remaining number of ios apps:  6184\n"
     ]
    }
   ],
   "source": [
    "googleplay_dataset = remove_non_english(googleplay_dataset, 0)\n",
    "appstore_dataset = remove_non_english(appstore_dataset, 2)\n",
    "print('Remaining number of android apps: ', len(googleplay_dataset))\n",
    "print('Remaining number of ios apps: ', len(appstore_dataset))"
   ]
  },
  {
   "cell_type": "markdown",
   "id": "af72fba1",
   "metadata": {},
   "source": [
    "The last thing we have to do to clean our data is removing any non-free apps. We can see that in both data sets prices are strings and the price of each free app is a string `'0'`. It allows us to iterate through our data sets and to assign free apps(apps containing `'0'` in price olumn) to a new list. "
   ]
  },
  {
   "cell_type": "code",
   "execution_count": 13,
   "id": "5bd36414",
   "metadata": {},
   "outputs": [],
   "source": [
    "def remove_non_free(dataset, price_index):\n",
    "    clean_data = []\n",
    "    clean_data.append(dataset[0])\n",
    "    \n",
    "    for row in dataset[1:]:\n",
    "        if row[price_index] == '0':\n",
    "            clean_data.append(row)\n",
    "            \n",
    "    return clean_data"
   ]
  },
  {
   "cell_type": "code",
   "execution_count": 14,
   "id": "4ce9bde4",
   "metadata": {},
   "outputs": [
    {
     "name": "stdout",
     "output_type": "stream",
     "text": [
      "Number of free android apps:  8863\n",
      "Number of free ios apps:  3223\n"
     ]
    }
   ],
   "source": [
    "googleplay_dataset = remove_non_free(googleplay_dataset, 7)\n",
    "appstore_dataset = remove_non_free(appstore_dataset, 5)\n",
    "print('Number of free android apps: ', len(googleplay_dataset))\n",
    "print('Number of free ios apps: ', len(appstore_dataset))"
   ]
  },
  {
   "cell_type": "markdown",
   "id": "1959a15f",
   "metadata": {},
   "source": [
    "As we can see, after the final cleaning we're left with 8862 Android apps and 3222 iOS apps. We can now move on to finding the most suitable app profile for our analysis. Our app is going to be free, so we need to determine the kinds of apps that are likely to attract the most users. \n",
    "\n",
    "Our validation strategy for an app idea is made of three steps:\n",
    "- We create a minimal version of our app and add it to Google Play\n",
    "- If the app gets a good response we develop it futher\n",
    "- If the app is profitable after six months, we build an iOS version and add it to App Store\n",
    "\n",
    "Since our goal is to find an app that will perform well on Google Play and App Store, we need to find app profiles that are successful on both markets. We can start our analysis by finding the most popular genres on both platforms. To do that, we will write a function that creates an empty dictionary, fills it with genres listed in our data sets and if the app's genre already exists in our dictionary, it will increase our genre's frequency by 1. Then, we convert these values to percentages and return our dictionary sorted in a descending order. "
   ]
  },
  {
   "cell_type": "code",
   "execution_count": 15,
   "id": "ba39e82d",
   "metadata": {},
   "outputs": [],
   "source": [
    "def freq_table(dataset, index):\n",
    "    freq_dictionary = {}\n",
    "    total = 0 \n",
    "    \n",
    "    for row in dataset[1:]:\n",
    "        if row[index] in freq_dictionary:\n",
    "            freq_dictionary[row[index]] += 1\n",
    "        else:\n",
    "            freq_dictionary[row[index]] = 1\n",
    "        \n",
    "    for key in freq_dictionary:\n",
    "        freq_dictionary[key] = round(freq_dictionary[key] / len(dataset[1:]) * 100, 2)\n",
    "        \n",
    "    return sorted(freq_dictionary.items(), key=lambda x:x[1], reverse=True)\n",
    "\n",
    "def display_table(dataset):\n",
    "    for genre in dataset:\n",
    "        print(genre)"
   ]
  },
  {
   "cell_type": "code",
   "execution_count": 16,
   "id": "82fddcc4",
   "metadata": {},
   "outputs": [
    {
     "name": "stdout",
     "output_type": "stream",
     "text": [
      "('Games', 58.16)\n",
      "('Entertainment', 7.88)\n",
      "('Photo & Video', 4.97)\n",
      "('Education', 3.66)\n",
      "('Social Networking', 3.29)\n",
      "('Shopping', 2.61)\n",
      "('Utilities', 2.51)\n",
      "('Sports', 2.14)\n",
      "('Music', 2.05)\n",
      "('Health & Fitness', 2.02)\n",
      "('Productivity', 1.74)\n",
      "('Lifestyle', 1.58)\n",
      "('News', 1.33)\n",
      "('Travel', 1.24)\n",
      "('Finance', 1.12)\n",
      "('Weather', 0.87)\n",
      "('Food & Drink', 0.81)\n",
      "('Reference', 0.56)\n",
      "('Business', 0.53)\n",
      "('Book', 0.43)\n",
      "('Navigation', 0.19)\n",
      "('Medical', 0.19)\n",
      "('Catalogs', 0.12)\n"
     ]
    }
   ],
   "source": [
    "appstore_genre_freq = freq_table(appstore_dataset, 12)\n",
    "display_table(appstore_genre_freq)"
   ]
  },
  {
   "cell_type": "markdown",
   "id": "2cb9c47c",
   "metadata": {},
   "source": [
    "As we can see, App Store is heavily dominated(58.16%) by `Games`. The next most popular genres are `Entertainment`- 7.88%, `Photo & Video`- 4.97%, `Education`- 3.66% and `Social Networking` - 3.29%. These five genres represent 77.96% of all apps on App Store. We can conclude that App Store users tend to use apps that let them relax or kill time. Practical apps have a pretty low representation on this market, but that doesn't necessarily mean they're not popular.\n",
    "\n",
    "We want to develop our free English app for both iOS and Android, so we can't recommend an app profile yet, as the popularity distribution might be different on Google Play. "
   ]
  },
  {
   "cell_type": "code",
   "execution_count": 17,
   "id": "533eebf1",
   "metadata": {},
   "outputs": [
    {
     "name": "stdout",
     "output_type": "stream",
     "text": [
      "('Tools', 8.44)\n",
      "('Entertainment', 6.07)\n",
      "('Education', 5.35)\n",
      "('Business', 4.59)\n",
      "('Lifestyle', 3.89)\n",
      "('Productivity', 3.89)\n",
      "('Finance', 3.7)\n",
      "('Medical', 3.52)\n",
      "('Sports', 3.46)\n",
      "('Personalization', 3.32)\n",
      "('Communication', 3.24)\n",
      "('Action', 3.1)\n",
      "('Health & Fitness', 3.08)\n",
      "('Photography', 2.95)\n",
      "('News & Magazines', 2.8)\n",
      "('Social', 2.66)\n",
      "('Travel & Local', 2.32)\n",
      "('Shopping', 2.25)\n",
      "('Books & Reference', 2.14)\n",
      "('Simulation', 2.04)\n",
      "('Dating', 1.86)\n",
      "('Arcade', 1.85)\n",
      "('Video Players & Editors', 1.77)\n",
      "('Casual', 1.75)\n",
      "('Maps & Navigation', 1.4)\n",
      "('Food & Drink', 1.24)\n",
      "('Puzzle', 1.13)\n",
      "('Racing', 0.99)\n",
      "('Libraries & Demo', 0.94)\n",
      "('Role Playing', 0.94)\n",
      "('Auto & Vehicles', 0.93)\n",
      "('Strategy', 0.91)\n",
      "('House & Home', 0.82)\n",
      "('Weather', 0.8)\n",
      "('Events', 0.71)\n",
      "('Adventure', 0.68)\n",
      "('Comics', 0.61)\n",
      "('Art & Design', 0.6)\n",
      "('Beauty', 0.6)\n",
      "('Parenting', 0.5)\n",
      "('Card', 0.44)\n",
      "('Casino', 0.43)\n",
      "('Trivia', 0.42)\n",
      "('Educational;Education', 0.39)\n",
      "('Board', 0.37)\n",
      "('Educational', 0.37)\n",
      "('Education;Education', 0.34)\n",
      "('Word', 0.26)\n",
      "('Casual;Pretend Play', 0.24)\n",
      "('Music', 0.2)\n",
      "('Puzzle;Brain Games', 0.18)\n",
      "('Entertainment;Music & Video', 0.17)\n",
      "('Racing;Action & Adventure', 0.17)\n",
      "('Casual;Brain Games', 0.14)\n",
      "('Casual;Action & Adventure', 0.14)\n",
      "('Arcade;Action & Adventure', 0.12)\n",
      "('Action;Action & Adventure', 0.1)\n",
      "('Educational;Pretend Play', 0.09)\n",
      "('Board;Brain Games', 0.09)\n",
      "('Entertainment;Brain Games', 0.08)\n",
      "('Simulation;Action & Adventure', 0.08)\n",
      "('Parenting;Education', 0.08)\n",
      "('Art & Design;Creativity', 0.07)\n",
      "('Educational;Brain Games', 0.07)\n",
      "('Casual;Creativity', 0.07)\n",
      "('Parenting;Music & Video', 0.07)\n",
      "('Education;Pretend Play', 0.06)\n",
      "('Education;Creativity', 0.05)\n",
      "('Role Playing;Pretend Play', 0.05)\n",
      "('Education;Brain Games', 0.03)\n",
      "('Entertainment;Creativity', 0.03)\n",
      "('Educational;Creativity', 0.03)\n",
      "('Adventure;Action & Adventure', 0.03)\n",
      "('Role Playing;Action & Adventure', 0.03)\n",
      "('Educational;Action & Adventure', 0.03)\n",
      "('Entertainment;Action & Adventure', 0.03)\n",
      "('Puzzle;Action & Adventure', 0.03)\n",
      "('Education;Action & Adventure', 0.03)\n",
      "('Education;Music & Video', 0.03)\n",
      "('Casual;Education', 0.02)\n",
      "('Music;Music & Video', 0.02)\n",
      "('Simulation;Pretend Play', 0.02)\n",
      "('Puzzle;Creativity', 0.02)\n",
      "('Sports;Action & Adventure', 0.02)\n",
      "('Board;Action & Adventure', 0.02)\n",
      "('Entertainment;Pretend Play', 0.02)\n",
      "('Video Players & Editors;Music & Video', 0.02)\n",
      "('Comics;Creativity', 0.01)\n",
      "('Lifestyle;Pretend Play', 0.01)\n",
      "('Card;Brain Games', 0.01)\n",
      "('Art & Design;Pretend Play', 0.01)\n",
      "('Entertainment;Education', 0.01)\n",
      "('Arcade;Pretend Play', 0.01)\n",
      "('Art & Design;Action & Adventure', 0.01)\n",
      "('Strategy;Action & Adventure', 0.01)\n",
      "('Music & Audio;Music & Video', 0.01)\n",
      "('Health & Fitness;Education', 0.01)\n",
      "('Casual;Music & Video', 0.01)\n",
      "('Travel & Local;Action & Adventure', 0.01)\n",
      "('Tools;Education', 0.01)\n",
      "('Parenting;Brain Games', 0.01)\n",
      "('Video Players & Editors;Creativity', 0.01)\n",
      "('Health & Fitness;Action & Adventure', 0.01)\n",
      "('Trivia;Education', 0.01)\n",
      "('Lifestyle;Education', 0.01)\n",
      "('Card;Action & Adventure', 0.01)\n",
      "('Books & Reference;Education', 0.01)\n",
      "('Simulation;Education', 0.01)\n",
      "('Puzzle;Education', 0.01)\n",
      "('Adventure;Education', 0.01)\n",
      "('Role Playing;Brain Games', 0.01)\n",
      "('Strategy;Education', 0.01)\n",
      "('Racing;Pretend Play', 0.01)\n",
      "('Communication;Creativity', 0.01)\n",
      "('Strategy;Creativity', 0.01)\n"
     ]
    }
   ],
   "source": [
    "googleplay_genre_freq = freq_table(googleplay_dataset, 9)\n",
    "display_table(googleplay_genre_freq)"
   ]
  },
  {
   "cell_type": "markdown",
   "id": "05bc1d70",
   "metadata": {},
   "source": [
    "Our android data set's `genre` column seems to be very detailed, which doesn't bring us any clear benefits and can make our work more inconvenient, so we will focus on the `category` column instead. "
   ]
  },
  {
   "cell_type": "code",
   "execution_count": 18,
   "id": "f9a0f9a5",
   "metadata": {},
   "outputs": [
    {
     "name": "stdout",
     "output_type": "stream",
     "text": [
      "('FAMILY', 18.93)\n",
      "('GAME', 9.69)\n",
      "('TOOLS', 8.45)\n",
      "('BUSINESS', 4.59)\n",
      "('LIFESTYLE', 3.9)\n",
      "('PRODUCTIVITY', 3.89)\n",
      "('FINANCE', 3.7)\n",
      "('MEDICAL', 3.52)\n",
      "('SPORTS', 3.4)\n",
      "('PERSONALIZATION', 3.32)\n",
      "('COMMUNICATION', 3.24)\n",
      "('HEALTH_AND_FITNESS', 3.08)\n",
      "('PHOTOGRAPHY', 2.95)\n",
      "('NEWS_AND_MAGAZINES', 2.8)\n",
      "('SOCIAL', 2.66)\n",
      "('TRAVEL_AND_LOCAL', 2.34)\n",
      "('SHOPPING', 2.25)\n",
      "('BOOKS_AND_REFERENCE', 2.14)\n",
      "('DATING', 1.86)\n",
      "('VIDEO_PLAYERS', 1.79)\n",
      "('MAPS_AND_NAVIGATION', 1.4)\n",
      "('FOOD_AND_DRINK', 1.24)\n",
      "('EDUCATION', 1.17)\n",
      "('ENTERTAINMENT', 0.96)\n",
      "('LIBRARIES_AND_DEMO', 0.94)\n",
      "('AUTO_AND_VEHICLES', 0.93)\n",
      "('HOUSE_AND_HOME', 0.82)\n",
      "('WEATHER', 0.8)\n",
      "('EVENTS', 0.71)\n",
      "('PARENTING', 0.65)\n",
      "('ART_AND_DESIGN', 0.64)\n",
      "('COMICS', 0.62)\n",
      "('BEAUTY', 0.6)\n"
     ]
    }
   ],
   "source": [
    "googleplay_category_freq = freq_table(googleplay_dataset, 1)\n",
    "display_table(googleplay_category_freq)"
   ]
  },
  {
   "cell_type": "markdown",
   "id": "2ff107c9",
   "metadata": {},
   "source": [
    "We can easily notice that unlike App Store, Google Play isn't as heavily dominated by one genre. The two most popular categories are `Family` with 18.93% and `Games` with 9.69%. Right behind them are `Tools` with 8.45%, `Business` with 4.59% and `Lifestyle` with 3.9%, meaning that although the most popular categories are still relaxing time killers, the practical apps are way more common on Google Play than they are on App Store, making it a more balanced market. \n",
    "\n",
    "As we have said before, we can't recommend an app profile basing only on apps distribution by genre. What we need to find now is how popular each genre is on average. To do that, we will create a simple function that calculates the average number of installs on Google Play and the average number of user reviews on App Store. Google Play data set's `Installs` column is filled with open-ended strings(e.g. 100,000+, 1,000,000+) that need to be converted to integers for us to calculate the genre's average number of users. We can do that by removing all commas and pluses from our strings."
   ]
  },
  {
   "cell_type": "code",
   "execution_count": 19,
   "id": "c309763d",
   "metadata": {},
   "outputs": [],
   "source": [
    "def how_popular_genre(dataset, genre_index, popularity_index):\n",
    "    popularity_dictionary = {}\n",
    "    freq_dictionary = {}\n",
    "    \n",
    "    for row in dataset[1:]:\n",
    "        if row[genre_index] in popularity_dictionary:\n",
    "            nr_of_users = row[popularity_index]\n",
    "            nr_of_users = nr_of_users.replace(',', '')\n",
    "            nr_of_users = nr_of_users.replace('+', '')\n",
    "            freq_dictionary[row[genre_index]] += 1\n",
    "            popularity_dictionary[row[genre_index]] += float(nr_of_users)\n",
    "        else:\n",
    "            nr_of_users = row[popularity_index]\n",
    "            nr_of_users = nr_of_users.replace(',', '')\n",
    "            nr_of_users = nr_of_users.replace('+', '')\n",
    "            freq_dictionary[row[genre_index]] = 1\n",
    "            popularity_dictionary[row[genre_index]] = float(nr_of_users)\n",
    "            \n",
    "    for genre in popularity_dictionary:\n",
    "        popularity_dictionary[genre] = round(popularity_dictionary[genre] / freq_dictionary[genre], 2)   \n",
    "        \n",
    "    return sorted(popularity_dictionary.items(), key=lambda x:x[1], reverse=True)"
   ]
  },
  {
   "cell_type": "code",
   "execution_count": 20,
   "id": "69a81b70",
   "metadata": {},
   "outputs": [
    {
     "name": "stdout",
     "output_type": "stream",
     "text": [
      "('Navigation', 86090.33)\n",
      "('Reference', 74942.11)\n",
      "('Social Networking', 71548.35)\n",
      "('Music', 57326.53)\n",
      "('Weather', 52279.89)\n",
      "('Book', 39758.5)\n",
      "('Food & Drink', 33333.92)\n",
      "('Finance', 31467.94)\n",
      "('Photo & Video', 28441.54)\n",
      "('Travel', 28243.8)\n",
      "('Shopping', 26919.69)\n",
      "('Health & Fitness', 23298.02)\n",
      "('Sports', 23008.9)\n",
      "('Games', 22788.67)\n",
      "('News', 21248.02)\n",
      "('Productivity', 21028.41)\n",
      "('Utilities', 18684.46)\n",
      "('Lifestyle', 16485.76)\n",
      "('Entertainment', 14029.83)\n",
      "('Business', 7491.12)\n",
      "('Education', 7003.98)\n",
      "('Catalogs', 4004.0)\n",
      "('Medical', 612.0)\n"
     ]
    }
   ],
   "source": [
    "appstore_genre_popularity = how_popular_genre(appstore_dataset, 12, 6)\n",
    "display_table(appstore_genre_popularity)"
   ]
  },
  {
   "cell_type": "markdown",
   "id": "322a0acc",
   "metadata": {},
   "source": [
    "We can probably dismiss the `Social Networking` and `Music` genre since they require a lot of work and resources to become successful. `Weather` also won't be suitable for our app because people spend very short time using such apps and thus, it wouldn't bring us much money from ads and would require a very accurate weather data for people to use it. With them out of our way, let's explore the `Navigation`, `Reference` and `Book` genres."
   ]
  },
  {
   "cell_type": "code",
   "execution_count": 21,
   "id": "a42ddf2b",
   "metadata": {},
   "outputs": [],
   "source": [
    "def most_popular_apps_in_genre(dataset, genre_index, popularity_index, name_index, genre):\n",
    "    apps_list = []\n",
    "    \n",
    "    for row in dataset[1:]:\n",
    "        if row[genre_index] == genre:\n",
    "              apps_list.append(row)\n",
    "                \n",
    "    apps_list = sorted(apps_list, key=lambda x: float(x[popularity_index]), reverse=True)\n",
    "    \n",
    "    for row in apps_list[:20]:\n",
    "        print(row[name_index], ' : ', row[popularity_index])\n",
    "    print('\\n')"
   ]
  },
  {
   "cell_type": "code",
   "execution_count": 22,
   "id": "63503c0f",
   "metadata": {
    "scrolled": true
   },
   "outputs": [
    {
     "name": "stdout",
     "output_type": "stream",
     "text": [
      "Waze - GPS Navigation, Maps & Real-time Traffic  :  345046\n",
      "Google Maps - Navigation & Transit  :  154911\n",
      "Geocaching®  :  12811\n",
      "CoPilot GPS – Car Navigation & Offline Maps  :  3582\n",
      "ImmobilienScout24: Real Estate Search in Germany  :  187\n",
      "Railway Route Search  :  5\n",
      "\n",
      "\n",
      "Bible  :  985920\n",
      "Dictionary.com Dictionary & Thesaurus  :  200047\n",
      "Dictionary.com Dictionary & Thesaurus for iPad  :  54175\n",
      "Google Translate  :  26786\n",
      "Muslim Pro: Ramadan 2017 Prayer Times, Azan, Quran  :  18418\n",
      "New Furniture Mods - Pocket Wiki & Game Tools for Minecraft PC Edition  :  17588\n",
      "Merriam-Webster Dictionary  :  16849\n",
      "Night Sky  :  12122\n",
      "City Maps for Minecraft PE - The Best Maps for Minecraft Pocket Edition (MCPE)  :  8535\n",
      "LUCKY BLOCK MOD ™ for Minecraft PC Edition - The Best Pocket Wiki & Mods Installer Tools  :  4693\n",
      "GUNS MODS for Minecraft PC Edition - Mods Tools  :  1497\n",
      "Guides for Pokémon GO - Pokemon GO News and Cheats  :  826\n",
      "WWDC  :  762\n",
      "Horror Maps for Minecraft PE - Download The Scariest Maps for Minecraft Pocket Edition (MCPE) Free  :  718\n",
      "VPN Express  :  14\n",
      "Real Bike Traffic Rider Virtual Reality Glasses  :  8\n",
      "Jishokun-Japanese English Dictionary & Translator  :  0\n",
      "教えて!goo  :  0\n",
      "\n",
      "\n",
      "Kindle – Read eBooks, Magazines & Textbooks  :  252076\n",
      "Audible – audio books, original series & podcasts  :  105274\n",
      "Color Therapy Adult Coloring Book for Adults  :  84062\n",
      "OverDrive – Library eBooks and Audiobooks  :  65450\n",
      "HOOKED - Chat Stories  :  47829\n",
      "BookShout: Read eBooks & Track Your Reading Goals  :  879\n",
      "Dr. Seuss Treasury — 50 best kids books  :  451\n",
      "Green Riding Hood  :  392\n",
      "Weirdwood Manor  :  197\n",
      "MangaZERO - comic reader  :  9\n",
      "ikouhoushi  :  0\n",
      "MangaTiara - love comic reader  :  0\n",
      "謎解き2016  :  0\n",
      "謎解き  :  0\n",
      "\n",
      "\n"
     ]
    }
   ],
   "source": [
    "most_popular_apps_in_genre(appstore_dataset, 12, 6, 2, 'Navigation')\n",
    "most_popular_apps_in_genre(appstore_dataset, 12, 6, 2, 'Reference')\n",
    "most_popular_apps_in_genre(appstore_dataset, 12, 6, 2, 'Book')  "
   ]
  },
  {
   "cell_type": "markdown",
   "id": "5783bdf2",
   "metadata": {},
   "source": [
    "Even though `Navigation` and `Book` genres have high average numbers of reviews, we can see that those averages are highly influenced by 2-3 most popular apps, while the rest barely has any presence on the market. It leaves us with `Reference` genre, which seems to show some potential. Despite its average also being influenced by top 2 apps, the genre itself has a much more balanced landscape. \n",
    "\n",
    "This might actually be a perfect idea for our app, since users frequently spend a lot of time in apps like 'Bible', 'Dictionary' or various Wikis, allowing us to get more profit from ads. We could create a wiki-like app, containing guides for the most popular games. The dynamics of the gaming market would give us a steady stream of new content and users, making it more likely for our app to be profitable in a long run.\n",
    "\n",
    "Alternatively, we could copy `Bible` and `Quran` ideas and make an app about Hindu/Buddhist holy books, since this type of an app usually does well.\n",
    "\n",
    "Let's see if this idea would be good for the Google Play market."
   ]
  },
  {
   "cell_type": "code",
   "execution_count": 23,
   "id": "26b9744d",
   "metadata": {},
   "outputs": [
    {
     "name": "stdout",
     "output_type": "stream",
     "text": [
      "('COMMUNICATION', 38456119.17)\n",
      "('VIDEO_PLAYERS', 24727872.45)\n",
      "('SOCIAL', 23253652.13)\n",
      "('PHOTOGRAPHY', 17805627.64)\n",
      "('PRODUCTIVITY', 16787331.34)\n",
      "('GAME', 15560965.6)\n",
      "('TRAVEL_AND_LOCAL', 13984077.71)\n",
      "('ENTERTAINMENT', 11640705.88)\n",
      "('TOOLS', 10682301.03)\n",
      "('NEWS_AND_MAGAZINES', 9549178.47)\n",
      "('BOOKS_AND_REFERENCE', 8767811.89)\n",
      "('SHOPPING', 7036877.31)\n",
      "('PERSONALIZATION', 5201482.61)\n",
      "('WEATHER', 5074486.2)\n",
      "('HEALTH_AND_FITNESS', 4188821.99)\n",
      "('MAPS_AND_NAVIGATION', 4056941.77)\n",
      "('FAMILY', 3694276.33)\n",
      "('SPORTS', 3638640.14)\n",
      "('ART_AND_DESIGN', 1986335.09)\n",
      "('FOOD_AND_DRINK', 1924897.74)\n",
      "('EDUCATION', 1820673.08)\n",
      "('BUSINESS', 1712290.15)\n",
      "('LIFESTYLE', 1437816.27)\n",
      "('FINANCE', 1387692.48)\n",
      "('HOUSE_AND_HOME', 1331540.56)\n",
      "('DATING', 854028.83)\n",
      "('COMICS', 817657.27)\n",
      "('AUTO_AND_VEHICLES', 647317.82)\n",
      "('LIBRARIES_AND_DEMO', 638503.73)\n",
      "('PARENTING', 542603.62)\n",
      "('BEAUTY', 513151.89)\n",
      "('EVENTS', 253542.22)\n",
      "('MEDICAL', 120616.49)\n"
     ]
    }
   ],
   "source": [
    "googleplay_genre_popularity = how_popular_genre(googleplay_dataset, 1, 5)\n",
    "display_table(googleplay_genre_popularity)"
   ]
  },
  {
   "cell_type": "markdown",
   "id": "e668d36e",
   "metadata": {},
   "source": [
    "The situation here is fairly similar to the App Store market. The most popular genres(`COMMUNICATION`, `VIDEO_PLAYERS` and `SOCIAL`) require a lot of work and their numbers are pumped by big apps like Messenger, Youtube and Facebook. Thankfully, the `BOOKS_AND_REFERENCE` genre seems to be fairly popular too. Let's explore it in more detail."
   ]
  },
  {
   "cell_type": "code",
   "execution_count": 24,
   "id": "6fe9d074",
   "metadata": {},
   "outputs": [
    {
     "name": "stdout",
     "output_type": "stream",
     "text": [
      "Wikipedia  :  10,000,000+\n",
      "Cool Reader  :  10,000,000+\n",
      "Book store  :  1,000,000+\n",
      "FBReader: Favorite Book Reader  :  10,000,000+\n",
      "Free Books - Spirit Fanfiction and Stories  :  1,000,000+\n",
      "AlReader -any text book reader  :  5,000,000+\n",
      "FamilySearch Tree  :  1,000,000+\n",
      "Cloud of Books  :  1,000,000+\n",
      "ReadEra – free ebook reader  :  1,000,000+\n",
      "Ebook Reader  :  5,000,000+\n",
      "Read books online  :  5,000,000+\n",
      "eBoox: book reader fb2 epub zip  :  1,000,000+\n",
      "All Maths Formulas  :  1,000,000+\n",
      "Ancestry  :  5,000,000+\n",
      "HTC Help  :  10,000,000+\n",
      "Moon+ Reader  :  10,000,000+\n",
      "English-Myanmar Dictionary  :  1,000,000+\n",
      "Golden Dictionary (EN-AR)  :  1,000,000+\n",
      "All Language Translator Free  :  1,000,000+\n",
      "Bible  :  100,000,000+\n",
      "Amazon Kindle  :  100,000,000+\n",
      "Aldiko Book Reader  :  10,000,000+\n",
      "Wattpad 📖 Free Books  :  100,000,000+\n",
      "Dictionary - WordWeb  :  5,000,000+\n",
      "50000 Free eBooks & Free AudioBooks  :  5,000,000+\n",
      "Al-Quran (Free)  :  10,000,000+\n",
      "Al Quran Indonesia  :  10,000,000+\n",
      "Al'Quran Bahasa Indonesia  :  10,000,000+\n",
      "Al Quran Al karim  :  1,000,000+\n",
      "Al Quran : EAlim - Translations & MP3 Offline  :  5,000,000+\n",
      "Koran Read &MP3 30 Juz Offline  :  1,000,000+\n",
      "Hafizi Quran 15 lines per page  :  1,000,000+\n",
      "Quran for Android  :  10,000,000+\n",
      "Satellite AR  :  1,000,000+\n",
      "Audiobooks from Audible  :  100,000,000+\n",
      "Oxford A-Z of English Usage  :  1,000,000+\n",
      "Dictionary.com: Find Definitions for English Words  :  10,000,000+\n",
      "English Dictionary - Offline  :  10,000,000+\n",
      "Bible KJV  :  5,000,000+\n",
      "NOOK: Read eBooks & Magazines  :  10,000,000+\n",
      "Brilliant Quotes: Life, Love, Family & Motivation  :  1,000,000+\n",
      "Stats Royale for Clash Royale  :  1,000,000+\n",
      "Dictionary  :  10,000,000+\n",
      "wikiHow: how to do anything  :  1,000,000+\n",
      "EGW Writings  :  1,000,000+\n",
      "My Little Pony AR Guide  :  1,000,000+\n",
      "Spanish English Translator  :  10,000,000+\n",
      "Dictionary - Merriam-Webster  :  10,000,000+\n",
      "JW Library  :  10,000,000+\n",
      "Oxford Dictionary of English : Free  :  10,000,000+\n",
      "English Hindi Dictionary  :  10,000,000+\n",
      "English to Hindi Dictionary  :  5,000,000+\n"
     ]
    }
   ],
   "source": [
    "for row in googleplay_dataset[1:]:\n",
    "    if row[1] == 'BOOKS_AND_REFERENCE' and (row[5] == '1,000,000+'\n",
    "                                            or row[5] == '5,000,000+'\n",
    "                                            or row[5] == '10,000,000+'\n",
    "                                            or row[5] == '50,000,000+'\n",
    "                                            or row[5] == '100,000,000+'):\n",
    "        print(row[0], ' : ', row[5])"
   ]
  },
  {
   "cell_type": "markdown",
   "id": "cdbd3623",
   "metadata": {},
   "source": [
    "Google Play on the other hand seems to be dominated by ebooks software, dictionaries and libraries. Religion books focused apps are also quite popular. The other thing that we can notice is a small number of wiki apps.\n",
    "\n",
    "The above observation indicates that our app about Hindu/Buddhist religious books has a chance to become profitable on both markets. If our app does well, we could also consider making it a bilingual and adding hindi language, giving us even more exposure.\n",
    "\n",
    "Our wiki app for various games also doesn't seem like a bad idea since there isn't much competition on the Android market. Since the most popular games tend to be the multiplayer ones, if we do some serious research and write useful guides, we might attract a lot of players wanting to improve at the game they like. This idea, compared to our other one, is harder to realize, but would give us a steadier stream of users. "
   ]
  },
  {
   "cell_type": "markdown",
   "id": "f7eaad14",
   "metadata": {},
   "source": [
    "# Conclusions\n",
    "We analyzed data about App Store and Google Play markets and tried to find an app profile that could be profitable for both markets.\n",
    "\n",
    "We came to the conclusion that apps focusing on religious books might have a high chance of attracting a lot of users. Their negative side is that there's not a lot of further developement we can do after their initial version. It shouldn't hinder the new users stream by a lot since there are new religion practitioners everyday. \n",
    "\n",
    "The games wiki app on the other hand is a more risky idea, but we could develop it for many years, never suffering from the lack of new content or ideas. If our guides were well-made, the users would keep coming back to our app whenever they started playing a new game. This would give us a constant stream of users, who would spend a significant amount of time reading our guides, bringing us more profit from ads. "
   ]
  }
 ],
 "metadata": {
  "kernelspec": {
   "display_name": "Python 3",
   "language": "python",
   "name": "python3"
  },
  "language_info": {
   "codemirror_mode": {
    "name": "ipython",
    "version": 3
   },
   "file_extension": ".py",
   "mimetype": "text/x-python",
   "name": "python",
   "nbconvert_exporter": "python",
   "pygments_lexer": "ipython3",
   "version": "3.8.8"
  }
 },
 "nbformat": 4,
 "nbformat_minor": 5
}
